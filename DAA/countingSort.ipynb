{
 "cells": [
  {
   "cell_type": "markdown",
   "metadata": {},
   "source": [
    "### Counting Sort\n",
    "Sreehari P Sreedhar, CB.SC.I5DAS20032"
   ]
  },
  {
   "cell_type": "code",
   "execution_count": 1,
   "metadata": {},
   "outputs": [],
   "source": [
    "def getVals(arr):\n",
    "    print('Current length of array:', len(arr))\n",
    "    print('Current array:', arr)\n",
    "    arr += (input(\"Enter numbers separated by spaces: \").split())\n",
    "    arr = [int(i) for i in arr if i.isdigit()]\n",
    "    print('Current length of array:', len(arr))\n",
    "    print('Current array:', arr)\n",
    "    if len(arr) < 10:\n",
    "        arr = getVals(arr)\n",
    "    return arr"
   ]
  },
  {
   "cell_type": "code",
   "execution_count": 2,
   "metadata": {},
   "outputs": [],
   "source": [
    "def CountingSort(arr):\n",
    "    a = max(arr) # Find largest element\n",
    "    b = [0]*(a + 1) # define placeholder array\n",
    "\n",
    "    for i in arr:\n",
    "        b[i] += 1 # iterate and count\n",
    "\n",
    "    c = []\n",
    "    for j in range(len(b)):\n",
    "        c += [j]*b[j] # add numbers to new array\n",
    "\n",
    "    return c # return new array"
   ]
  },
  {
   "cell_type": "code",
   "execution_count": 3,
   "metadata": {},
   "outputs": [
    {
     "name": "stdout",
     "output_type": "stream",
     "text": [
      "Current length of array: 0\n",
      "Current array: []\n",
      "Current length of array: 10\n",
      "Current array: [142, 72, 150, 82, 52, 67, 97, 180, 42, 110]\n",
      "[42, 52, 67, 72, 82, 97, 110, 142, 150, 180]\n"
     ]
    }
   ],
   "source": [
    "print(CountingSort(getVals([])))"
   ]
  },
  {
   "cell_type": "code",
   "execution_count": null,
   "metadata": {},
   "outputs": [],
   "source": []
  }
 ],
 "metadata": {
  "interpreter": {
   "hash": "0600588c3b5f4418cbe7b5ebc6825b479f3bc010269d8b60d75058cdd010adfe"
  },
  "kernelspec": {
   "display_name": "Python 3.7.1 64-bit",
   "language": "python",
   "name": "python3"
  },
  "language_info": {
   "codemirror_mode": {
    "name": "ipython",
    "version": 3
   },
   "file_extension": ".py",
   "mimetype": "text/x-python",
   "name": "python",
   "nbconvert_exporter": "python",
   "pygments_lexer": "ipython3",
   "version": "3.9.7"
  },
  "orig_nbformat": 4
 },
 "nbformat": 4,
 "nbformat_minor": 2
}
