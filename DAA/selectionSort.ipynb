{
 "cells": [
  {
   "cell_type": "markdown",
   "metadata": {},
   "source": [
    "### Selection Sort\n",
    "Sreehari P Sreedhar, CB.SC.I5DAS20032"
   ]
  },
  {
   "cell_type": "code",
   "execution_count": 49,
   "metadata": {},
   "outputs": [],
   "source": [
    "def getVals(arr):\n",
    "    \n",
    "    print('Current length of array:', len(arr))\n",
    "    print('Current array:', arr)\n",
    "\n",
    "    arr += (input(\"Enter numbers separated by spaces: \").split())\n",
    "    arr = [int(i) for i in arr if i.isdigit()]\n",
    "\n",
    "    print('Current length of array:', len(arr))\n",
    "    print('Current array:', arr)\n",
    "\n",
    "    if len(arr) < 10:\n",
    "        arr = getVals(arr)\n",
    "\n",
    "    return arr\n"
   ]
  },
  {
   "cell_type": "code",
   "execution_count": 50,
   "metadata": {},
   "outputs": [],
   "source": [
    "def selectionSort(arr):\n",
    "    for i in range(len(arr)):\n",
    "        j = arr.index(min(arr[i:]))\n",
    "        arr[i], arr[j] = arr[j], arr[i]\n",
    "        print('Current array:', arr)\n",
    "    \n",
    "    return arr"
   ]
  },
  {
   "cell_type": "code",
   "execution_count": 51,
   "metadata": {},
   "outputs": [
    {
     "name": "stdout",
     "output_type": "stream",
     "text": [
      "Current length of array: 0\n",
      "Current array: []\n",
      "Current length of array: 17\n",
      "Current array: [1, 43, 546, 3, 123, 345, 24, 22, 54, 654, 234, 987, 68, 7, 18, 9, 0]\n"
     ]
    }
   ],
   "source": [
    "arr = getVals([])"
   ]
  },
  {
   "cell_type": "code",
   "execution_count": 52,
   "metadata": {},
   "outputs": [
    {
     "name": "stdout",
     "output_type": "stream",
     "text": [
      "Current array: [0, 43, 546, 3, 123, 345, 24, 22, 54, 654, 234, 987, 68, 7, 18, 9, 1]\n",
      "Current array: [0, 1, 546, 3, 123, 345, 24, 22, 54, 654, 234, 987, 68, 7, 18, 9, 43]\n",
      "Current array: [0, 1, 3, 546, 123, 345, 24, 22, 54, 654, 234, 987, 68, 7, 18, 9, 43]\n",
      "Current array: [0, 1, 3, 7, 123, 345, 24, 22, 54, 654, 234, 987, 68, 546, 18, 9, 43]\n",
      "Current array: [0, 1, 3, 7, 9, 345, 24, 22, 54, 654, 234, 987, 68, 546, 18, 123, 43]\n",
      "Current array: [0, 1, 3, 7, 9, 18, 24, 22, 54, 654, 234, 987, 68, 546, 345, 123, 43]\n",
      "Current array: [0, 1, 3, 7, 9, 18, 22, 24, 54, 654, 234, 987, 68, 546, 345, 123, 43]\n",
      "Current array: [0, 1, 3, 7, 9, 18, 22, 24, 54, 654, 234, 987, 68, 546, 345, 123, 43]\n",
      "Current array: [0, 1, 3, 7, 9, 18, 22, 24, 43, 654, 234, 987, 68, 546, 345, 123, 54]\n",
      "Current array: [0, 1, 3, 7, 9, 18, 22, 24, 43, 54, 234, 987, 68, 546, 345, 123, 654]\n",
      "Current array: [0, 1, 3, 7, 9, 18, 22, 24, 43, 54, 68, 987, 234, 546, 345, 123, 654]\n",
      "Current array: [0, 1, 3, 7, 9, 18, 22, 24, 43, 54, 68, 123, 234, 546, 345, 987, 654]\n",
      "Current array: [0, 1, 3, 7, 9, 18, 22, 24, 43, 54, 68, 123, 234, 546, 345, 987, 654]\n",
      "Current array: [0, 1, 3, 7, 9, 18, 22, 24, 43, 54, 68, 123, 234, 345, 546, 987, 654]\n",
      "Current array: [0, 1, 3, 7, 9, 18, 22, 24, 43, 54, 68, 123, 234, 345, 546, 987, 654]\n",
      "Current array: [0, 1, 3, 7, 9, 18, 22, 24, 43, 54, 68, 123, 234, 345, 546, 654, 987]\n",
      "Current array: [0, 1, 3, 7, 9, 18, 22, 24, 43, 54, 68, 123, 234, 345, 546, 654, 987]\n"
     ]
    },
    {
     "data": {
      "text/plain": [
       "[0, 1, 3, 7, 9, 18, 22, 24, 43, 54, 68, 123, 234, 345, 546, 654, 987]"
      ]
     },
     "execution_count": 52,
     "metadata": {},
     "output_type": "execute_result"
    }
   ],
   "source": [
    "selectionSort(arr)"
   ]
  }
 ],
 "metadata": {
  "interpreter": {
   "hash": "2c4eb22513297cec5654cfcbb03155dbdfdfce47361ebee1c20ce7fc1403920c"
  },
  "kernelspec": {
   "display_name": "Python 3.9.7 64-bit ('env': conda)",
   "language": "python",
   "name": "python3"
  },
  "language_info": {
   "codemirror_mode": {
    "name": "ipython",
    "version": 3
   },
   "file_extension": ".py",
   "mimetype": "text/x-python",
   "name": "python",
   "nbconvert_exporter": "python",
   "pygments_lexer": "ipython3",
   "version": "3.9.7"
  },
  "orig_nbformat": 4
 },
 "nbformat": 4,
 "nbformat_minor": 2
}
