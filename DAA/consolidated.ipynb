{
 "cells": [
  {
   "cell_type": "code",
   "execution_count": null,
   "metadata": {},
   "outputs": [],
   "source": [
    "arr = []"
   ]
  },
  {
   "cell_type": "markdown",
   "metadata": {},
   "source": [
    "## Insertion Sort"
   ]
  },
  {
   "cell_type": "code",
   "execution_count": null,
   "metadata": {},
   "outputs": [],
   "source": [
    "for i in range(1,10):\n",
    "    temp = arr[i]\n",
    "    j = i-1\n",
    "    while j >= 0 and temp < arr[j]:\n",
    "        arr[j+1] = arr[j]\n",
    "        j -= 1\n",
    "    arr[j+1] = temp"
   ]
  },
  {
   "cell_type": "markdown",
   "metadata": {},
   "source": [
    "## Bubble Sort"
   ]
  },
  {
   "cell_type": "code",
   "execution_count": null,
   "metadata": {},
   "outputs": [],
   "source": [
    "for i in range(len(arr)):\n",
    "    for j in range(0, len(arr) - i - 1):\n",
    "        if arr[j] > arr[j + 1]:\n",
    "            arr[j], arr[j + 1] = arr[j + 1], arr[j]\n",
    "            print(arr)"
   ]
  },
  {
   "cell_type": "markdown",
   "metadata": {},
   "source": [
    "## Selection Sort"
   ]
  },
  {
   "cell_type": "code",
   "execution_count": null,
   "metadata": {},
   "outputs": [],
   "source": [
    "for i in range(len(arr)):\n",
    "        j = arr.index(min(arr[i:]))\n",
    "        arr[i], arr[j] = arr[j], arr[i]"
   ]
  },
  {
   "cell_type": "markdown",
   "metadata": {},
   "source": [
    "## Counting Sort"
   ]
  },
  {
   "cell_type": "code",
   "execution_count": null,
   "metadata": {},
   "outputs": [],
   "source": [
    "a = max(arr) \n",
    "b = [0]*(a + 1) \n",
    "\n",
    "for i in arr:\n",
    "    b[i] += 1 \n",
    "\n",
    "c = []\n",
    "for j in range(len(b)):\n",
    "    c += [j]*b[j] "
   ]
  },
  {
   "cell_type": "markdown",
   "metadata": {},
   "source": [
    "## Matrix Chain Multiplication"
   ]
  },
  {
   "cell_type": "code",
   "execution_count": 8,
   "metadata": {},
   "outputs": [],
   "source": [
    "import numpy as np\n",
    "\n",
    "dims = [30, 35, 15, 5, 10, 20, 25]\n",
    "\n",
    "l = len(dims)\n",
    "\n",
    "n = l - 1"
   ]
  },
  {
   "cell_type": "code",
   "execution_count": 9,
   "metadata": {},
   "outputs": [
    {
     "data": {
      "text/plain": [
       "15125.0"
      ]
     },
     "execution_count": 9,
     "metadata": {},
     "output_type": "execute_result"
    }
   ],
   "source": [
    "arrM = np.array([[float('inf')]*n]*n)\n",
    "arrS = np.array([[None]*n]*n)\n",
    "\n",
    "def matrixChain(i, j):\n",
    "    if arrM[i, j] < float('inf'):\n",
    "        return arrM[i, j]\n",
    "    if i == j:\n",
    "        arrM[i, j] = 0\n",
    "        return 0\n",
    "    \n",
    "    m = float('inf')\n",
    "\n",
    "    for k in range(i, j):\n",
    "        temp = matrixChain(i, k) + matrixChain(k + 1, j) + dims[i - 1] * dims[k] * dims[j]\n",
    "\n",
    "        if temp < m:\n",
    "            m = temp\n",
    "            arrS[i, j] = int(k + 1)\n",
    "\n",
    "    arrM[i, j] = m\n",
    "\n",
    "    return m\n",
    "\n",
    "matrixChain(0, n-1)"
   ]
  },
  {
   "cell_type": "code",
   "execution_count": 11,
   "metadata": {},
   "outputs": [
    {
     "name": "stdout",
     "output_type": "stream",
     "text": [
      "((A0(A1(A2A3)))(A4A5))"
     ]
    }
   ],
   "source": [
    "def optimalParens(arrS, i, j):\n",
    "    if i == j:\n",
    "        print(f'A{i}', end='')\n",
    "    \n",
    "    else:\n",
    "        print('(', end='')\n",
    "        optimalParens(arrS, i, arrS[i, j] - 1)\n",
    "        optimalParens(arrS, arrS[i, j], j)\n",
    "        print(')', end='')\n",
    "\n",
    "optimalParens(arrS, 0, 5)"
   ]
  },
  {
   "cell_type": "markdown",
   "metadata": {},
   "source": [
    "## Longest Common Subsequence"
   ]
  },
  {
   "cell_type": "code",
   "execution_count": 1,
   "metadata": {},
   "outputs": [],
   "source": [
    "import numpy as np\n",
    "\n",
    "x = 'WXYXZZ'\n",
    "y = 'ZYXWXWZY'\n",
    "\n",
    "arr = np.array([[None]*(len(y) + 1)]*(len(x) + 1))\n",
    "\n",
    "arr[0, :] = 0\n",
    "arr[:, 0] = 0\n",
    "\n",
    "arrows = arr.copy()"
   ]
  },
  {
   "cell_type": "code",
   "execution_count": 2,
   "metadata": {},
   "outputs": [],
   "source": [
    "def getMax(i, j):\n",
    "    if arr[i-1, j] >= arr[i, j-1]:\n",
    "        return (i - 1, j)\n",
    "    else:\n",
    "        return (i, j - 1)\n",
    "for i in range(1, len(x) + 1):\n",
    "    for j in range(1, len(y) + 1):\n",
    "        if x[i-1] == y[j-1]:\n",
    "            arr[i, j] = arr[i - 1, j - 1] + 1\n",
    "            arrows[i, j] = (i - 1, j - 1)\n",
    "        else:\n",
    "            arr[i, j] = max(arr[i - 1, j], arr[i, j - 1])\n",
    "            arrows[i, j] = getMax(i, j)"
   ]
  },
  {
   "cell_type": "code",
   "execution_count": 3,
   "metadata": {},
   "outputs": [
    {
     "data": {
      "text/plain": [
       "array([[0, 0, 0, 0, 0, 0, 0, 0, 0],\n",
       "       [0, 0, 0, 0, 1, 1, 1, 1, 1],\n",
       "       [0, 0, 0, 1, 1, 2, 2, 2, 2],\n",
       "       [0, 0, 1, 1, 1, 2, 2, 2, 3],\n",
       "       [0, 0, 1, 2, 2, 2, 2, 2, 3],\n",
       "       [0, 1, 1, 2, 2, 2, 2, 3, 3],\n",
       "       [0, 1, 1, 2, 2, 2, 2, 3, 3]], dtype=object)"
      ]
     },
     "execution_count": 3,
     "metadata": {},
     "output_type": "execute_result"
    }
   ],
   "source": [
    "arr"
   ]
  },
  {
   "cell_type": "code",
   "execution_count": 4,
   "metadata": {},
   "outputs": [
    {
     "data": {
      "text/plain": [
       "array([[0, 0, 0, 0, 0, 0, 0, 0, 0],\n",
       "       [0, (0, 1), (0, 2), (0, 3), (0, 3), (1, 4), (0, 5), (1, 6),\n",
       "        (1, 7)],\n",
       "       [0, (1, 1), (1, 2), (1, 2), (1, 4), (1, 4), (2, 5), (2, 6),\n",
       "        (2, 7)],\n",
       "       [0, (2, 1), (2, 1), (2, 3), (2, 4), (2, 5), (2, 6), (2, 7),\n",
       "        (2, 7)],\n",
       "       [0, (3, 1), (3, 2), (3, 2), (4, 3), (3, 4), (3, 6), (3, 7),\n",
       "        (3, 8)],\n",
       "       [0, (4, 0), (4, 2), (4, 3), (4, 4), (4, 5), (4, 6), (4, 6),\n",
       "        (4, 8)],\n",
       "       [0, (5, 0), (5, 2), (5, 3), (5, 4), (5, 5), (5, 6), (5, 6),\n",
       "        (5, 8)]], dtype=object)"
      ]
     },
     "execution_count": 4,
     "metadata": {},
     "output_type": "execute_result"
    }
   ],
   "source": [
    "arrows"
   ]
  },
  {
   "cell_type": "code",
   "execution_count": 5,
   "metadata": {},
   "outputs": [],
   "source": [
    "path = []\n",
    "def followPath(i, j):\n",
    "    if i != 0 and j!=0:\n",
    "        path.append(arrows[i, j]) \n",
    "        followPath(arrows[i, j][0], arrows[i, j][1])\n",
    "\n",
    "followPath(len(x), len(y))"
   ]
  },
  {
   "cell_type": "code",
   "execution_count": 6,
   "metadata": {},
   "outputs": [],
   "source": [
    "lcs = ''\n",
    "for i in range(len(path)):\n",
    "    if path[i] == (path[i - 1][0] - 1, path[i - 1][1] - 1):\n",
    "        lcs = x[path[i][0]] + lcs"
   ]
  },
  {
   "cell_type": "code",
   "execution_count": 7,
   "metadata": {},
   "outputs": [
    {
     "data": {
      "text/plain": [
       "'WXY'"
      ]
     },
     "execution_count": 7,
     "metadata": {},
     "output_type": "execute_result"
    }
   ],
   "source": [
    "lcs"
   ]
  },
  {
   "cell_type": "markdown",
   "metadata": {},
   "source": [
    "## Fractional Knapsack"
   ]
  },
  {
   "cell_type": "code",
   "execution_count": null,
   "metadata": {},
   "outputs": [],
   "source": [
    "def fractional_knapsack(value, weight, capacity):\n",
    "\n",
    "    index = list(range(len(value)))\n",
    "    \n",
    "    ratio = [v/w for v, w in zip(value, weight)]\n",
    "    \n",
    "    index.sort(key=lambda i: ratio[i], reverse=True)\n",
    " \n",
    "    max_value = 0\n",
    "    \n",
    "    fractions = [0]*len(value)\n",
    "    \n",
    "    for i in index:\n",
    "        if weight[i] <= capacity:\n",
    "            fractions[i] = 1\n",
    "            max_value += value[i]\n",
    "            capacity = int(capacity - (weight[i] * fractions[i]))\n",
    "        else:\n",
    "            fractions[i] = capacity/weight[i]\n",
    "            max_value += value[i]*capacity/weight[i]\n",
    "            break\n",
    " \n",
    "    return max_value, fractions"
   ]
  },
  {
   "cell_type": "markdown",
   "metadata": {},
   "source": [
    "## 0 / 1 Knapsack"
   ]
  },
  {
   "cell_type": "code",
   "execution_count": null,
   "metadata": {},
   "outputs": [],
   "source": [
    "def Calc(W, P, m):\n",
    "    F = [[1 for j in range(1 + m)] for i in range(len(P) + 1)]\n",
    "    for i in range(1 + len(P)):\n",
    "        F[i][0] = 0\n",
    "    for j in range(1 + m):\n",
    "        F[0][j] = 0\n",
    "    for i in range(1, 1 + len(P)):\n",
    "        for j in range(1, 1 + m):\n",
    "            if W[i-1] <= j:\n",
    "                if P[i - 1] + F[i-1][j - W[i-1]] > F[i-1][j]:\n",
    "                    F[i][j] = P[i-1] + F[i-1][j - W[i-1]]\n",
    "                else:\n",
    "                    F[i][j] = F[i-1][j]\n",
    "            else:\n",
    "                F[i][j] = F[i-1][j]\n",
    "    return F"
   ]
  },
  {
   "cell_type": "code",
   "execution_count": null,
   "metadata": {},
   "outputs": [],
   "source": [
    "def trback(F, W, n, j):\n",
    "    for i in range(n, 0, -1):\n",
    "        if F[i][j] != F[i-1][j]:\n",
    "            X[i-1] = 1\n",
    "            j = j - W[i - 1]"
   ]
  },
  {
   "cell_type": "code",
   "execution_count": null,
   "metadata": {},
   "outputs": [],
   "source": [
    "m = 7\n",
    "W = [4, 2, 3]\n",
    "P = [1, 4, 3]\n",
    "X = [0 for i in range(len(P))]\n",
    "print('m= ', m, 'W= ', W, 'P= ', P)\n",
    "F = Calc(W, P, m)\n",
    "TP = F[len(P)][m]\n",
    "print('Total profit is ', TP)\n",
    "trback(F, W, len(P), m)\n",
    "print('Solution Vector is : ', X)\n",
    "\n",
    "for i in range(len(F)):\n",
    "    print(F[i])"
   ]
  },
  {
   "cell_type": "markdown",
   "metadata": {},
   "source": [
    "## Huffman Codes"
   ]
  },
  {
   "cell_type": "code",
   "execution_count": null,
   "metadata": {},
   "outputs": [],
   "source": [
    "class node:\n",
    "\tdef __init__(self, freq, symbol, left=None, right=None):\n",
    "\t\t\n",
    "\t\tself.freq = freq\n",
    "\n",
    "\t\tself.symbol = symbol\n",
    "\n",
    "\t\tself.left = left\n",
    "\t\t\n",
    "\t\tself.right = right\n",
    "\n",
    "\t\tself.huff = ''"
   ]
  },
  {
   "cell_type": "code",
   "execution_count": null,
   "metadata": {},
   "outputs": [],
   "source": [
    "def printNodes(node, val=''):\n",
    "\t\n",
    "\tnewVal = val + str(node.huff)\n",
    "\n",
    "\tif(node.left):\n",
    "\t\tprintNodes(node.left, newVal)\n",
    "\tif(node.right):\n",
    "\t\tprintNodes(node.right, newVal)\n",
    "\n",
    "\tif(not node.left and not node.right):\n",
    "\t\tprint(f\"{node.symbol} -> {newVal}\")"
   ]
  },
  {
   "cell_type": "code",
   "execution_count": null,
   "metadata": {},
   "outputs": [],
   "source": [
    "chars = ['a', 'b', 'c', 'd', 'e', 'f']\n",
    "\n",
    "freq = [ 5, 9, 12, 13, 16, 45]\n",
    "\n",
    "nodes = []"
   ]
  },
  {
   "cell_type": "code",
   "execution_count": null,
   "metadata": {},
   "outputs": [],
   "source": [
    "for x in range(len(chars)):\n",
    "\tnodes.append(node(freq[x], chars[x]))"
   ]
  },
  {
   "cell_type": "code",
   "execution_count": null,
   "metadata": {},
   "outputs": [],
   "source": [
    "while len(nodes) > 1:\n",
    "\n",
    "\tnodes = sorted(nodes, key=lambda x: x.freq)\n",
    "\n",
    "\tleft = nodes[0]\n",
    "\tright = nodes[1]\n",
    "\n",
    "\tleft.huff = 0\n",
    "\tright.huff = 1\n",
    "\n",
    "\tnewNode = node(left.freq+right.freq, left.symbol+right.symbol, left, right)\n",
    "\n",
    "\tnodes.remove(left)\n",
    "\tnodes.remove(right)\n",
    "\tnodes.append(newNode)\n",
    "\n",
    "printNodes(nodes[0])"
   ]
  }
 ],
 "metadata": {
  "interpreter": {
   "hash": "2ccee50c2ade9082d0f66290d7bf48f8de6e3644d9764d5581a2e35285991750"
  },
  "kernelspec": {
   "display_name": "Python 3.10.4 ('npTest')",
   "language": "python",
   "name": "python3"
  },
  "language_info": {
   "codemirror_mode": {
    "name": "ipython",
    "version": 3
   },
   "file_extension": ".py",
   "mimetype": "text/x-python",
   "name": "python",
   "nbconvert_exporter": "python",
   "pygments_lexer": "ipython3",
   "version": "3.10.4"
  },
  "orig_nbformat": 4
 },
 "nbformat": 4,
 "nbformat_minor": 2
}
