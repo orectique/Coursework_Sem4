{
 "cells": [
  {
   "cell_type": "code",
   "execution_count": 1,
   "metadata": {},
   "outputs": [],
   "source": [
    "import numpy as np"
   ]
  },
  {
   "cell_type": "code",
   "execution_count": 35,
   "metadata": {},
   "outputs": [
    {
     "data": {
      "text/plain": [
       "array([[0, 0, 0, 0, 0, 0, 0, 0, 0],\n",
       "       [0, None, None, None, None, None, None, None, None],\n",
       "       [0, None, None, None, None, None, None, None, None],\n",
       "       [0, None, None, None, None, None, None, None, None],\n",
       "       [0, None, None, None, None, None, None, None, None],\n",
       "       [0, None, None, None, None, None, None, None, None],\n",
       "       [0, None, None, None, None, None, None, None, None]], dtype=object)"
      ]
     },
     "execution_count": 35,
     "metadata": {},
     "output_type": "execute_result"
    }
   ],
   "source": [
    "x = 'WXYXZZ'\n",
    "y = 'ZYXWXWZY'\n",
    "\n",
    "arr = np.array([[None]*(len(y) + 1)]*(len(x) + 1))\n",
    "\n",
    "arr[0, :] = 0\n",
    "arr[:, 0] = 0\n",
    "\n",
    "arr"
   ]
  },
  {
   "cell_type": "code",
   "execution_count": 36,
   "metadata": {},
   "outputs": [],
   "source": [
    "arrows = arr.copy()"
   ]
  },
  {
   "cell_type": "code",
   "execution_count": 37,
   "metadata": {},
   "outputs": [],
   "source": [
    "def getMax(i, j):\n",
    "    if arr[i-1, j] >= arr[i, j-1]:\n",
    "        return (i - 1, j)\n",
    "    else:\n",
    "        return (i, j - 1)\n",
    "for i in range(1, len(x) + 1):\n",
    "    for j in range(1, len(y) + 1):\n",
    "        if x[i-1] == y[j-1]:\n",
    "            arr[i, j] = arr[i - 1, j - 1] + 1\n",
    "            arrows[i, j] = (i - 1, j - 1)\n",
    "        else:\n",
    "            arr[i, j] = max(arr[i - 1, j], arr[i, j - 1])\n",
    "            arrows[i, j] = getMax(i, j)"
   ]
  },
  {
   "cell_type": "code",
   "execution_count": 38,
   "metadata": {},
   "outputs": [
    {
     "data": {
      "text/plain": [
       "array([[0, 0, 0, 0, 0, 0, 0, 0, 0],\n",
       "       [0, (0, 1), (0, 2), (0, 3), (0, 3), (1, 4), (0, 5), (1, 6),\n",
       "        (1, 7)],\n",
       "       [0, (1, 1), (1, 2), (1, 2), (1, 4), (1, 4), (2, 5), (2, 6),\n",
       "        (2, 7)],\n",
       "       [0, (2, 1), (2, 1), (2, 3), (2, 4), (2, 5), (2, 6), (2, 7),\n",
       "        (2, 7)],\n",
       "       [0, (3, 1), (3, 2), (3, 2), (4, 3), (3, 4), (3, 6), (3, 7),\n",
       "        (3, 8)],\n",
       "       [0, (4, 0), (4, 2), (4, 3), (4, 4), (4, 5), (4, 6), (4, 6),\n",
       "        (4, 8)],\n",
       "       [0, (5, 0), (5, 2), (5, 3), (5, 4), (5, 5), (5, 6), (5, 6),\n",
       "        (5, 8)]], dtype=object)"
      ]
     },
     "execution_count": 38,
     "metadata": {},
     "output_type": "execute_result"
    }
   ],
   "source": [
    "arrows"
   ]
  },
  {
   "cell_type": "code",
   "execution_count": 41,
   "metadata": {},
   "outputs": [
    {
     "name": "stdout",
     "output_type": "stream",
     "text": [
      "(5, 8)\n",
      "(4, 8)\n",
      "(3, 8)\n",
      "(2, 7)\n",
      "(2, 6)\n",
      "(2, 5)\n",
      "(1, 4)\n",
      "(0, 3)\n"
     ]
    }
   ],
   "source": [
    "path = []\n",
    "def followPath(i, j):\n",
    "    if i != 0 and j!=0:\n",
    "        print(arrows[i, j])\n",
    "        path.append(arrows[i, j]) \n",
    "        followPath(arrows[i, j][0], arrows[i, j][1])\n",
    "\n",
    "followPath(len(x), len(y))\n"
   ]
  },
  {
   "cell_type": "code",
   "execution_count": 43,
   "metadata": {},
   "outputs": [],
   "source": [
    "lcs = ''\n",
    "for i in range(len(path)):\n",
    "    if path[i] == (path[i - 1][0] - 1, path[i - 1][1] - 1):\n",
    "        lcs = x[path[i][0]] + lcs"
   ]
  },
  {
   "cell_type": "code",
   "execution_count": 44,
   "metadata": {},
   "outputs": [
    {
     "data": {
      "text/plain": [
       "'WXY'"
      ]
     },
     "execution_count": 44,
     "metadata": {},
     "output_type": "execute_result"
    }
   ],
   "source": [
    "lcs"
   ]
  },
  {
   "cell_type": "code",
   "execution_count": null,
   "metadata": {},
   "outputs": [],
   "source": []
  }
 ],
 "metadata": {
  "interpreter": {
   "hash": "7aa7eecd0f849ab40efe6ac0a8ce5383eaa0569ecfba7009708b3eaae53995d1"
  },
  "kernelspec": {
   "display_name": "Python 3.10.4 ('env')",
   "language": "python",
   "name": "python3"
  },
  "language_info": {
   "codemirror_mode": {
    "name": "ipython",
    "version": 3
   },
   "file_extension": ".py",
   "mimetype": "text/x-python",
   "name": "python",
   "nbconvert_exporter": "python",
   "pygments_lexer": "ipython3",
   "version": "3.10.4"
  },
  "orig_nbformat": 4
 },
 "nbformat": 4,
 "nbformat_minor": 2
}
