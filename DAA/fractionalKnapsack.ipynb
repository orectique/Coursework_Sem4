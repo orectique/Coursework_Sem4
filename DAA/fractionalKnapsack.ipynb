{
 "cells": [
  {
   "cell_type": "code",
   "execution_count": 2,
   "metadata": {},
   "outputs": [],
   "source": [
    "def fractional_knapsack(value, weight, capacity):\n",
    "    index = list(range(len(value)))\n",
    "    ratio = [v/w for v, w in zip(value, weight)]\n",
    "    index.sort(key=lambda i: ratio[i], reverse=True)\n",
    " \n",
    "    max_value = 0\n",
    "    fractions = [0]*len(value)\n",
    "    for i in index:\n",
    "        if weight[i] <= capacity:\n",
    "            fractions[i] = 1\n",
    "            max_value += value[i]\n",
    "            capacity = int(capacity - (weight[i] * fractions[i]))\n",
    "        else:\n",
    "            fractions[i] = capacity/weight[i]\n",
    "            max_value += value[i]*capacity/weight[i]\n",
    "            break\n",
    " \n",
    "    return max_value, fractions"
   ]
  },
  {
   "cell_type": "code",
   "execution_count": 3,
   "metadata": {},
   "outputs": [
    {
     "name": "stdout",
     "output_type": "stream",
     "text": [
      "The maximum value of items that can be carried: 7.5\n",
      "The fractions in which the items should be taken: [0.5, 1, 1]\n"
     ]
    }
   ],
   "source": [
    "n = int(input('Enter number of items: '))\n",
    "value = input('Enter the values of the {} item(s) in order: '\n",
    "              .format(n)).split()\n",
    "value = [int(v) for v in value]\n",
    "weight = input('Enter the positive weights of the {} item(s) in order: '\n",
    "               .format(n)).split()\n",
    "weight = [int(w) for w in weight]\n",
    "capacity = int(input('Enter maximum weight: '))\n",
    " \n",
    "max_value, fractions = fractional_knapsack(value, weight, capacity)\n",
    "print('The maximum value of items that can be carried:', max_value)\n",
    "print('The fractions in which the items should be taken:', fractions)"
   ]
  }
 ],
 "metadata": {
  "interpreter": {
   "hash": "7aa7eecd0f849ab40efe6ac0a8ce5383eaa0569ecfba7009708b3eaae53995d1"
  },
  "kernelspec": {
   "display_name": "Python 3.10.4 ('env')",
   "language": "python",
   "name": "python3"
  },
  "language_info": {
   "codemirror_mode": {
    "name": "ipython",
    "version": 3
   },
   "file_extension": ".py",
   "mimetype": "text/x-python",
   "name": "python",
   "nbconvert_exporter": "python",
   "pygments_lexer": "ipython3",
   "version": "3.10.4"
  },
  "orig_nbformat": 4
 },
 "nbformat": 4,
 "nbformat_minor": 2
}
