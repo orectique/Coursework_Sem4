{
 "cells": [
  {
   "cell_type": "markdown",
   "metadata": {},
   "source": [
    "### Quick Sort\n",
    "Sreehari P Sreedhar, CB.SC.I5DAS20032"
   ]
  },
  {
   "cell_type": "code",
   "execution_count": 2,
   "metadata": {},
   "outputs": [],
   "source": [
    "# function to get at least 10 values in an array\n",
    "\n",
    "def getVals(arr):\n",
    "    \n",
    "    print('Current length of array:', len(arr))\n",
    "    print('Current array:', arr)\n",
    "\n",
    "    arr += (input(\"Enter numbers separated by spaces: \").split())\n",
    "    arr = [int(i) for i in arr if i.isdigit()]\n",
    "\n",
    "    print('Current length of array:', len(arr))\n",
    "    print('Current array:', arr)\n",
    "\n",
    "    if len(arr) < 10:\n",
    "        arr = getVals(arr)\n",
    "\n",
    "    return arr"
   ]
  },
  {
   "cell_type": "code",
   "execution_count": 3,
   "metadata": {},
   "outputs": [],
   "source": [
    "def split(arr, l, r):\n",
    "    i = l\n",
    "    pivot = arr[l]\n",
    "\n",
    "    while l < r:\n",
    "        while l < len(arr) and arr[l] <= pivot: # find first element greater than pivot\n",
    "            l += 1\n",
    "\n",
    "        while arr[r] > pivot: # find first element less than pivot\n",
    "            r -= 1\n",
    "\n",
    "        if l < r:\n",
    "            arr[l], arr[r] = arr[r], arr[l] # swap elements\n",
    "\n",
    "    arr[r], arr[i] = arr[i], arr[r] # swap pivot with first element greater than pivot\n",
    "\n",
    "    return r"
   ]
  },
  {
   "cell_type": "code",
   "execution_count": 4,
   "metadata": {},
   "outputs": [],
   "source": [
    "# function to perform quick sort on array\n",
    "def quickSort(arr, l, r):\n",
    "    if l < r:\n",
    "        splitPoint = split(arr, l, r) # split the array and return the index of the pivot\n",
    "\n",
    "        quickSort(arr, l, splitPoint - 1) # sort the left half of the array\n",
    "        quickSort(arr, splitPoint + 1, r) # sort the right half of the array\n",
    "        \n",
    "    return arr"
   ]
  },
  {
   "cell_type": "code",
   "execution_count": 5,
   "metadata": {},
   "outputs": [
    {
     "name": "stdout",
     "output_type": "stream",
     "text": [
      "Current length of array: 0\n",
      "Current array: []\n",
      "Current length of array: 12\n",
      "Current array: [3, 43, 54, 234, 236, 56, 22, 43, 65, 98, 87, 876]\n"
     ]
    },
    {
     "data": {
      "text/plain": [
       "[3, 22, 43, 43, 54, 56, 65, 87, 98, 234, 236, 876]"
      ]
     },
     "execution_count": 5,
     "metadata": {},
     "output_type": "execute_result"
    }
   ],
   "source": [
    "arr = getVals([])\n",
    "\n",
    "quickSort(arr, 0, len(arr) - 1)"
   ]
  },
  {
   "cell_type": "code",
   "execution_count": null,
   "metadata": {},
   "outputs": [],
   "source": []
  }
 ],
 "metadata": {
  "interpreter": {
   "hash": "2c4eb22513297cec5654cfcbb03155dbdfdfce47361ebee1c20ce7fc1403920c"
  },
  "kernelspec": {
   "display_name": "Python 3.9.7 ('env')",
   "language": "python",
   "name": "python3"
  },
  "language_info": {
   "codemirror_mode": {
    "name": "ipython",
    "version": 3
   },
   "file_extension": ".py",
   "mimetype": "text/x-python",
   "name": "python",
   "nbconvert_exporter": "python",
   "pygments_lexer": "ipython3",
   "version": "3.9.7"
  },
  "orig_nbformat": 4
 },
 "nbformat": 4,
 "nbformat_minor": 2
}
