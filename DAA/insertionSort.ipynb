{
 "cells": [
  {
   "cell_type": "code",
   "execution_count": 6,
   "metadata": {},
   "outputs": [],
   "source": [
    "arr = [0]*10\n",
    "\n",
    "for i in range(10):\n",
    "        arr[i] = int(input('Enter the number: '))"
   ]
  },
  {
   "cell_type": "code",
   "execution_count": 7,
   "metadata": {},
   "outputs": [
    {
     "name": "stdout",
     "output_type": "stream",
     "text": [
      "[5, 3, 77, 34, 45, 87, 34, 4, 5, 33]\n"
     ]
    }
   ],
   "source": [
    "print(arr)"
   ]
  },
  {
   "cell_type": "code",
   "execution_count": 8,
   "metadata": {},
   "outputs": [
    {
     "name": "stdout",
     "output_type": "stream",
     "text": [
      "[3, 4, 5, 5, 33, 34, 34, 45, 77, 87]\n"
     ]
    }
   ],
   "source": [
    "for i in range(1,10):\n",
    "    temp = arr[i]\n",
    "    j = i-1\n",
    "    while j >= 0 and temp < arr[j]:\n",
    "        arr[j+1] = arr[j]\n",
    "        j -= 1\n",
    "    arr[j+1] = temp\n",
    "\n",
    "print(arr)"
   ]
  },
  {
   "cell_type": "code",
   "execution_count": null,
   "metadata": {},
   "outputs": [],
   "source": []
  }
 ],
 "metadata": {
  "interpreter": {
   "hash": "2c4eb22513297cec5654cfcbb03155dbdfdfce47361ebee1c20ce7fc1403920c"
  },
  "kernelspec": {
   "display_name": "Python 3.9.7 64-bit ('env': conda)",
   "language": "python",
   "name": "python3"
  },
  "language_info": {
   "codemirror_mode": {
    "name": "ipython",
    "version": 3
   },
   "file_extension": ".py",
   "mimetype": "text/x-python",
   "name": "python",
   "nbconvert_exporter": "python",
   "pygments_lexer": "ipython3",
   "version": "3.9.7"
  },
  "orig_nbformat": 4
 },
 "nbformat": 4,
 "nbformat_minor": 2
}
