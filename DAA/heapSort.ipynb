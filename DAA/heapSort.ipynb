{
 "cells": [
  {
   "cell_type": "markdown",
   "metadata": {},
   "source": [
    "### Heap Sort\n",
    "Sreehari P Sreedhar, CB.SC.I5DAS20032"
   ]
  },
  {
   "cell_type": "code",
   "execution_count": 1,
   "metadata": {},
   "outputs": [],
   "source": [
    "# function to get at least 10 values in an array\n",
    "\n",
    "def getVals(arr):\n",
    "    \n",
    "    print('Current length of array:', len(arr))\n",
    "    print('Current array:', arr)\n",
    "\n",
    "    arr += (input(\"Enter numbers separated by spaces: \").split())\n",
    "    arr = [int(i) for i in arr if i.isdigit()]\n",
    "\n",
    "    print('Current length of array:', len(arr))\n",
    "    print('Current array:', arr)\n",
    "\n",
    "    if len(arr) < 10:\n",
    "        arr = getVals(arr)\n",
    "\n",
    "    return arr"
   ]
  },
  {
   "cell_type": "code",
   "execution_count": 2,
   "metadata": {},
   "outputs": [],
   "source": [
    "def heap(arr, n, i):\n",
    "\n",
    "    big = i\n",
    "    l = 2 * i + 1 # left child\n",
    "    r = 2 * i + 2 # right child\n",
    "\n",
    "    if l < n and arr[l] > arr[big]: # if left child is bigger than parent\n",
    "        big = l\n",
    "\n",
    "    if r < n and arr[r] > arr[big]: # if right child is bigger than parent\n",
    "        big = r\n",
    "\n",
    "    if big != i: # if parent is not the biggest\n",
    "        arr[i], arr[big] = arr[big], arr[i] # swap parent and biggest child\n",
    "        heap(arr, n, big) # recurse\n"
   ]
  },
  {
   "cell_type": "code",
   "execution_count": 5,
   "metadata": {},
   "outputs": [],
   "source": [
    "def heapSort(arr):\n",
    "\n",
    "    n = len(arr)\n",
    "\n",
    "    for i in range(n, -1, -1): # build heap\n",
    "        heap(arr, n, i)\n",
    "\n",
    "    for i in range(n - 1, 0, -1): # sort\n",
    "        arr[i], arr[0] = arr[0], arr[i] # swap biggest and last element\n",
    "        heap(arr, i, 0) # rebuild heap\n",
    "\n",
    "    return arr"
   ]
  },
  {
   "cell_type": "code",
   "execution_count": 6,
   "metadata": {},
   "outputs": [
    {
     "name": "stdout",
     "output_type": "stream",
     "text": [
      "Current length of array: 0\n",
      "Current array: []\n",
      "Current length of array: 12\n",
      "Current array: [2, 546, 75, 98, 7, 65, 9, 456, 34, 87, 978, 55]\n"
     ]
    },
    {
     "data": {
      "text/plain": [
       "[2, 7, 9, 34, 55, 65, 75, 87, 98, 456, 546, 978]"
      ]
     },
     "execution_count": 6,
     "metadata": {},
     "output_type": "execute_result"
    }
   ],
   "source": [
    "heapSort(getVals([]))"
   ]
  },
  {
   "cell_type": "code",
   "execution_count": null,
   "metadata": {},
   "outputs": [],
   "source": []
  }
 ],
 "metadata": {
  "interpreter": {
   "hash": "2c4eb22513297cec5654cfcbb03155dbdfdfce47361ebee1c20ce7fc1403920c"
  },
  "kernelspec": {
   "display_name": "Python 3.9.7 ('env')",
   "language": "python",
   "name": "python3"
  },
  "language_info": {
   "codemirror_mode": {
    "name": "ipython",
    "version": 3
   },
   "file_extension": ".py",
   "mimetype": "text/x-python",
   "name": "python",
   "nbconvert_exporter": "python",
   "pygments_lexer": "ipython3",
   "version": "3.10.0"
  },
  "orig_nbformat": 4
 },
 "nbformat": 4,
 "nbformat_minor": 2
}
