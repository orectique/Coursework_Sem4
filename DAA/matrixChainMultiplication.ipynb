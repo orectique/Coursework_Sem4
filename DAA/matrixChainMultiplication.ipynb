{
 "cells": [
  {
   "cell_type": "code",
   "execution_count": 2,
   "metadata": {},
   "outputs": [],
   "source": [
    "import numpy as np"
   ]
  },
  {
   "cell_type": "code",
   "execution_count": 3,
   "metadata": {},
   "outputs": [],
   "source": [
    "dims = [30, 35, 15, 5, 10, 20, 25]\n",
    "\n",
    "l = len(dims)\n",
    "\n",
    "n = l - 1"
   ]
  },
  {
   "cell_type": "code",
   "execution_count": 4,
   "metadata": {},
   "outputs": [
    {
     "data": {
      "text/plain": [
       "15125.0"
      ]
     },
     "execution_count": 4,
     "metadata": {},
     "output_type": "execute_result"
    }
   ],
   "source": [
    "arrM = np.array([[float('inf')]*n]*n)\n",
    "arrS = arrM.copy()\n",
    "\n",
    "def matrixChain(i, j):\n",
    "    if arrM[i, j] < float('inf'):\n",
    "        return arrM[i, j]\n",
    "    if i == j:\n",
    "        arrM[i, j] = 0\n",
    "        return 0\n",
    "    \n",
    "    m = float('inf')\n",
    "\n",
    "    for k in range(i, j):\n",
    "        temp = matrixChain(i, k) + matrixChain(k + 1, j) + dims[i - 1] * dims[k] * dims[j]\n",
    "\n",
    "        if temp < m:\n",
    "            m = temp\n",
    "            arrS[i, j] = k + 1\n",
    "\n",
    "    arrM[i, j] = m\n",
    "\n",
    "    return m\n",
    "\n",
    "matrixChain(0, n-1)"
   ]
  },
  {
   "cell_type": "code",
   "execution_count": 5,
   "metadata": {},
   "outputs": [
    {
     "data": {
      "text/plain": [
       "array([[    0., 26250., 27000., 11625., 12875., 15125.],\n",
       "       [   inf,     0., 15750.,  7875.,  9375., 11875.],\n",
       "       [   inf,    inf,     0.,  2625.,  4375.,  7125.],\n",
       "       [   inf,    inf,    inf,     0.,   750.,  2500.],\n",
       "       [   inf,    inf,    inf,    inf,     0.,  1000.],\n",
       "       [   inf,    inf,    inf,    inf,    inf,     0.]])"
      ]
     },
     "execution_count": 5,
     "metadata": {},
     "output_type": "execute_result"
    }
   ],
   "source": [
    "arrM"
   ]
  },
  {
   "cell_type": "code",
   "execution_count": 6,
   "metadata": {},
   "outputs": [
    {
     "data": {
      "text/plain": [
       "array([[inf,  1.,  1.,  1.,  4.,  4.],\n",
       "       [inf, inf,  2.,  2.,  4.,  4.],\n",
       "       [inf, inf, inf,  3.,  4.,  4.],\n",
       "       [inf, inf, inf, inf,  4.,  4.],\n",
       "       [inf, inf, inf, inf, inf,  5.],\n",
       "       [inf, inf, inf, inf, inf, inf]])"
      ]
     },
     "execution_count": 6,
     "metadata": {},
     "output_type": "execute_result"
    }
   ],
   "source": [
    "arrS"
   ]
  },
  {
   "cell_type": "code",
   "execution_count": 7,
   "metadata": {},
   "outputs": [
    {
     "name": "stdout",
     "output_type": "stream",
     "text": [
      "(("
     ]
    },
    {
     "ename": "IndexError",
     "evalue": "only integers, slices (`:`), ellipsis (`...`), numpy.newaxis (`None`) and integer or boolean arrays are valid indices",
     "output_type": "error",
     "traceback": [
      "\u001b[1;31m---------------------------------------------------------------------------\u001b[0m",
      "\u001b[1;31mIndexError\u001b[0m                                Traceback (most recent call last)",
      "\u001b[1;32md:\\GitHub\\Coursework_Sem4\\DAA\\matrixChainMultiplication.ipynb Cell 6'\u001b[0m in \u001b[0;36m<cell line: 15>\u001b[1;34m()\u001b[0m\n\u001b[0;32m     <a href='vscode-notebook-cell:/d%3A/GitHub/Coursework_Sem4/DAA/matrixChainMultiplication.ipynb#ch0000005?line=11'>12</a>\u001b[0m         optimalParens(arrS, arrS[i, j] \u001b[39m+\u001b[39m \u001b[39m1\u001b[39m, j)\n\u001b[0;32m     <a href='vscode-notebook-cell:/d%3A/GitHub/Coursework_Sem4/DAA/matrixChainMultiplication.ipynb#ch0000005?line=12'>13</a>\u001b[0m         \u001b[39mprint\u001b[39m(\u001b[39m'\u001b[39m\u001b[39m)\u001b[39m\u001b[39m'\u001b[39m, end\u001b[39m=\u001b[39m\u001b[39m'\u001b[39m\u001b[39m'\u001b[39m)\n\u001b[1;32m---> <a href='vscode-notebook-cell:/d%3A/GitHub/Coursework_Sem4/DAA/matrixChainMultiplication.ipynb#ch0000005?line=14'>15</a>\u001b[0m optimalParens(arrS, \u001b[39m0\u001b[39;49m, n\u001b[39m-\u001b[39;49m\u001b[39m1\u001b[39;49m)\n",
      "\u001b[1;32md:\\GitHub\\Coursework_Sem4\\DAA\\matrixChainMultiplication.ipynb Cell 6'\u001b[0m in \u001b[0;36moptimalParens\u001b[1;34m(arrS, i, j)\u001b[0m\n\u001b[0;32m      <a href='vscode-notebook-cell:/d%3A/GitHub/Coursework_Sem4/DAA/matrixChainMultiplication.ipynb#ch0000005?line=8'>9</a>\u001b[0m \u001b[39melse\u001b[39;00m:\n\u001b[0;32m     <a href='vscode-notebook-cell:/d%3A/GitHub/Coursework_Sem4/DAA/matrixChainMultiplication.ipynb#ch0000005?line=9'>10</a>\u001b[0m     \u001b[39mprint\u001b[39m(\u001b[39m'\u001b[39m\u001b[39m(\u001b[39m\u001b[39m'\u001b[39m, end\u001b[39m=\u001b[39m\u001b[39m'\u001b[39m\u001b[39m'\u001b[39m)\n\u001b[1;32m---> <a href='vscode-notebook-cell:/d%3A/GitHub/Coursework_Sem4/DAA/matrixChainMultiplication.ipynb#ch0000005?line=10'>11</a>\u001b[0m     optimalParens(arrS, i, arrS[i, j])\n\u001b[0;32m     <a href='vscode-notebook-cell:/d%3A/GitHub/Coursework_Sem4/DAA/matrixChainMultiplication.ipynb#ch0000005?line=11'>12</a>\u001b[0m     optimalParens(arrS, arrS[i, j] \u001b[39m+\u001b[39m \u001b[39m1\u001b[39m, j)\n\u001b[0;32m     <a href='vscode-notebook-cell:/d%3A/GitHub/Coursework_Sem4/DAA/matrixChainMultiplication.ipynb#ch0000005?line=12'>13</a>\u001b[0m     \u001b[39mprint\u001b[39m(\u001b[39m'\u001b[39m\u001b[39m)\u001b[39m\u001b[39m'\u001b[39m, end\u001b[39m=\u001b[39m\u001b[39m'\u001b[39m\u001b[39m'\u001b[39m)\n",
      "\u001b[1;32md:\\GitHub\\Coursework_Sem4\\DAA\\matrixChainMultiplication.ipynb Cell 6'\u001b[0m in \u001b[0;36moptimalParens\u001b[1;34m(arrS, i, j)\u001b[0m\n\u001b[0;32m      <a href='vscode-notebook-cell:/d%3A/GitHub/Coursework_Sem4/DAA/matrixChainMultiplication.ipynb#ch0000005?line=8'>9</a>\u001b[0m \u001b[39melse\u001b[39;00m:\n\u001b[0;32m     <a href='vscode-notebook-cell:/d%3A/GitHub/Coursework_Sem4/DAA/matrixChainMultiplication.ipynb#ch0000005?line=9'>10</a>\u001b[0m     \u001b[39mprint\u001b[39m(\u001b[39m'\u001b[39m\u001b[39m(\u001b[39m\u001b[39m'\u001b[39m, end\u001b[39m=\u001b[39m\u001b[39m'\u001b[39m\u001b[39m'\u001b[39m)\n\u001b[1;32m---> <a href='vscode-notebook-cell:/d%3A/GitHub/Coursework_Sem4/DAA/matrixChainMultiplication.ipynb#ch0000005?line=10'>11</a>\u001b[0m     optimalParens(arrS, i, arrS[i, j])\n\u001b[0;32m     <a href='vscode-notebook-cell:/d%3A/GitHub/Coursework_Sem4/DAA/matrixChainMultiplication.ipynb#ch0000005?line=11'>12</a>\u001b[0m     optimalParens(arrS, arrS[i, j] \u001b[39m+\u001b[39m \u001b[39m1\u001b[39m, j)\n\u001b[0;32m     <a href='vscode-notebook-cell:/d%3A/GitHub/Coursework_Sem4/DAA/matrixChainMultiplication.ipynb#ch0000005?line=12'>13</a>\u001b[0m     \u001b[39mprint\u001b[39m(\u001b[39m'\u001b[39m\u001b[39m)\u001b[39m\u001b[39m'\u001b[39m, end\u001b[39m=\u001b[39m\u001b[39m'\u001b[39m\u001b[39m'\u001b[39m)\n",
      "\u001b[1;31mIndexError\u001b[0m: only integers, slices (`:`), ellipsis (`...`), numpy.newaxis (`None`) and integer or boolean arrays are valid indices"
     ]
    }
   ],
   "source": [
    "def optimalParens(arrS, i, j):\n",
    "    #if i != float('inf'):\n",
    "        #i = int(i)\n",
    "    #if j != float('inf'):\n",
    "     #   j = int(j)\n",
    "    if i == j:\n",
    "        print(f'A{i}', end='')\n",
    "    \n",
    "    else:\n",
    "        print('(', end='')\n",
    "        optimalParens(arrS, i, arrS[i, j])\n",
    "        optimalParens(arrS, arrS[i, j] + 1, j)\n",
    "        print(')', end='')\n",
    "\n",
    "optimalParens(arrS, 0, n-1)"
   ]
  },
  {
   "cell_type": "code",
   "execution_count": null,
   "metadata": {},
   "outputs": [
    {
     "data": {
      "text/plain": [
       "4.0"
      ]
     },
     "execution_count": 15,
     "metadata": {},
     "output_type": "execute_result"
    }
   ],
   "source": [
    "i, j = 0, n-1\n",
    "arrS[i, int(j)]"
   ]
  }
 ],
 "metadata": {
  "interpreter": {
   "hash": "7aa7eecd0f849ab40efe6ac0a8ce5383eaa0569ecfba7009708b3eaae53995d1"
  },
  "kernelspec": {
   "display_name": "Python 3.10.4 ('env')",
   "language": "python",
   "name": "python3"
  },
  "language_info": {
   "codemirror_mode": {
    "name": "ipython",
    "version": 3
   },
   "file_extension": ".py",
   "mimetype": "text/x-python",
   "name": "python",
   "nbconvert_exporter": "python",
   "pygments_lexer": "ipython3",
   "version": "3.10.4"
  },
  "orig_nbformat": 4
 },
 "nbformat": 4,
 "nbformat_minor": 2
}
