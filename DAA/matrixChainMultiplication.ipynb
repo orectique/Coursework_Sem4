{
 "cells": [
  {
   "cell_type": "code",
   "execution_count": 31,
   "metadata": {},
   "outputs": [],
   "source": [
    "import numpy as np"
   ]
  },
  {
   "cell_type": "code",
   "execution_count": 32,
   "metadata": {},
   "outputs": [],
   "source": [
    "dims = [30, 35, 15, 5, 10, 20, 25]\n",
    "\n",
    "l = len(dims)\n",
    "\n",
    "n = l - 1"
   ]
  },
  {
   "cell_type": "code",
   "execution_count": 33,
   "metadata": {},
   "outputs": [
    {
     "data": {
      "text/plain": [
       "15125.0"
      ]
     },
     "execution_count": 33,
     "metadata": {},
     "output_type": "execute_result"
    }
   ],
   "source": [
    "arrM = np.array([[float('inf')]*n]*n)\n",
    "arrS = np.array([[None]*n]*n)\n",
    "\n",
    "def matrixChain(i, j):\n",
    "    if arrM[i, j] < float('inf'):\n",
    "        return arrM[i, j]\n",
    "    if i == j:\n",
    "        arrM[i, j] = 0\n",
    "        return 0\n",
    "    \n",
    "    m = float('inf')\n",
    "\n",
    "    for k in range(i, j):\n",
    "        temp = matrixChain(i, k) + matrixChain(k + 1, j) + dims[i - 1] * dims[k] * dims[j]\n",
    "\n",
    "        if temp < m:\n",
    "            m = temp\n",
    "            arrS[i, j] = int(k + 1)\n",
    "\n",
    "    arrM[i, j] = m\n",
    "\n",
    "    return m\n",
    "\n",
    "matrixChain(0, n-1)"
   ]
  },
  {
   "cell_type": "code",
   "execution_count": 34,
   "metadata": {},
   "outputs": [
    {
     "data": {
      "text/plain": [
       "array([[    0., 26250., 27000., 11625., 12875., 15125.],\n",
       "       [   inf,     0., 15750.,  7875.,  9375., 11875.],\n",
       "       [   inf,    inf,     0.,  2625.,  4375.,  7125.],\n",
       "       [   inf,    inf,    inf,     0.,   750.,  2500.],\n",
       "       [   inf,    inf,    inf,    inf,     0.,  1000.],\n",
       "       [   inf,    inf,    inf,    inf,    inf,     0.]])"
      ]
     },
     "execution_count": 34,
     "metadata": {},
     "output_type": "execute_result"
    }
   ],
   "source": [
    "arrM"
   ]
  },
  {
   "cell_type": "code",
   "execution_count": 35,
   "metadata": {},
   "outputs": [
    {
     "data": {
      "text/plain": [
       "array([[None, 1, 1, 1, 4, 4],\n",
       "       [None, None, 2, 2, 4, 4],\n",
       "       [None, None, None, 3, 4, 4],\n",
       "       [None, None, None, None, 4, 4],\n",
       "       [None, None, None, None, None, 5],\n",
       "       [None, None, None, None, None, None]], dtype=object)"
      ]
     },
     "execution_count": 35,
     "metadata": {},
     "output_type": "execute_result"
    }
   ],
   "source": [
    "arrS"
   ]
  },
  {
   "cell_type": "code",
   "execution_count": 42,
   "metadata": {},
   "outputs": [
    {
     "name": "stdout",
     "output_type": "stream",
     "text": [
      "((((((((((((((((((((((((((((((((((((((((((((((((((((((((((((((((((((((((((((((((((((((((((((((((((((((((((((((((((((((((((((((((((((((((((((((((((((((((((((((((((((((((((((((((((((((((((((((((((((((((((((((((((((((((((((((((((((((((((((((((((((((((((((((((((((((((((((((((((((((((((((((((((((((((((((((((((((((((((((((((((((((((((((((((((((((((((((((((((((((((((((((((((((((((((((((((((((((((((((((((((((((((((((((((((((((((((((((((((((((((((((((((((((((((((((((((((((((((((((((((((((((((((((((((((((((((((((((((((((((((((((((((((((((((((((((((((((((((((((((((((((((((((((((((((((((((((((((((((((((((((((((((((((((((((((((((((((((((((((((((((((((((((((((((((((((((((((((((((((((((((((((((((((((((((((((((((((((((((((((((((((((((((((((((((((((((((((((((((((((((((((((((((((((((((((((((((((((((((((((((((((((((((((((((((((((((((((((((((((((((((((((((((((((((((((((((((((((((((((((((((((((((((((((((((((((((((((((((((((((((((((((((((((((((((((((((((((((((((((((((((((((((((((((((((((((((((((((((((((((((((((((((((((((((((((((((((((((((((((((((((((((((((((((((((((((((((((((((((((((((((((((((((((((((((((((((((((((((((((((((((((((((((((((((((((((((((((((((((((((((((((((((((((((((((((((((((((((((((((((((((((((((((((((((((((((((((((((((((((((((((((((((((((((((((((((((((((((((((((((((((((((((((((((((((((((((((((((((((((((((((((((((((((((((((((((((((((((((((((((((((((((((((((((((((((((((((((((((((((((((((((((((((((((((((((((((((((((((((((((((((((((((((((((((((((((((((((((((((((((((((((((((((((((((((((((((((((((((((((((((((((((((((((((((((((((((((((((((((((((((((((((((((((((((((((((((((((((((((((((((((((((((((((((((((((((((((((((((((((((((((((((((((((((((((((((((((((((((((((((((((((((((((((((((((((((((((((((((((((((((((((((((((((((((((((((((((((((((((((((((((((((((((((((((((((((((((((((((((((((((((((((((((((((((((((((((((((((((((((((((((((((((((((((((((((((((((((((((((((((((((((((((((((((((((((((((((((((((((((((((((((((((((((((((((((((((((((((((((((((((((((((((((((((((((((((((((((((((((((((((((((((((((((((((((((((((((((((((((((((((((((((((((((((((((((((((((((((((((((((((((((((((((((((((((((((((((((((((((((((((((((((((((((((((((((((((((((((((((((((((((((((((((((((((((((((((((((((((((((((((((((((((((((((((((((((((((((((((((((((((((((((((((((((((((((((((((((((((((((((((((((((((((((((((((((((((((((((((((((((((((((((((((((((((((((((((((((((((((((((((((((((((((((((((((((((((((((((((((((((((((((((((((((((((((((((((((((((((((((((((((((((((((((((((((((((((((((((((((((((((((((((((((((((((((((((((((((((((((((((((((((((((((((((((((((((((((((((((((((((((((((((((((((((((((((((((((((((((((((((((((((((((((((((((((((((((((((((((((((((((((((((((((((((((((((((((((((((((((((((((((((((((((((((((((((((((((((((((((((((((((((((((((((((((((((((((((((((((((((((((((((((((((((((((((((((((((((((((((((((((((((((((((((((((((((((((((((((((((((((((((((((((((((((((((((((((((((((((((((((((((((((((((((((((((((((((((((((((((((((((((((((((((((((((((((((((((((((((((((((((((((((((("
     ]
    },
    {
     "ename": "RecursionError",
     "evalue": "maximum recursion depth exceeded while calling a Python object",
     "output_type": "error",
     "traceback": [
      "\u001b[1;31m---------------------------------------------------------------------------\u001b[0m",
      "\u001b[1;31mRecursionError\u001b[0m                            Traceback (most recent call last)",
      "\u001b[1;32md:\\GitHub\\Coursework_Sem4\\DAA\\matrixChainMultiplication.ipynb Cell 6'\u001b[0m in \u001b[0;36m<cell line: 12>\u001b[1;34m()\u001b[0m\n\u001b[0;32m      <a href='vscode-notebook-cell:/d%3A/GitHub/Coursework_Sem4/DAA/matrixChainMultiplication.ipynb#ch0000005?line=8'>9</a>\u001b[0m         optimalParens(arrS, arrS[i, j] \u001b[39m+\u001b[39m \u001b[39m1\u001b[39m, j)\n\u001b[0;32m     <a href='vscode-notebook-cell:/d%3A/GitHub/Coursework_Sem4/DAA/matrixChainMultiplication.ipynb#ch0000005?line=9'>10</a>\u001b[0m         \u001b[39mprint\u001b[39m(\u001b[39m'\u001b[39m\u001b[39m)\u001b[39m\u001b[39m'\u001b[39m, end\u001b[39m=\u001b[39m\u001b[39m'\u001b[39m\u001b[39m'\u001b[39m)\n\u001b[1;32m---> <a href='vscode-notebook-cell:/d%3A/GitHub/Coursework_Sem4/DAA/matrixChainMultiplication.ipynb#ch0000005?line=11'>12</a>\u001b[0m optimalParens(arrS, \u001b[39m0\u001b[39;49m, n\u001b[39m-\u001b[39;49m\u001b[39m1\u001b[39;49m)\n",
      "\u001b[1;32md:\\GitHub\\Coursework_Sem4\\DAA\\matrixChainMultiplication.ipynb Cell 6'\u001b[0m in \u001b[0;36moptimalParens\u001b[1;34m(arrS, i, j)\u001b[0m\n\u001b[0;32m      <a href='vscode-notebook-cell:/d%3A/GitHub/Coursework_Sem4/DAA/matrixChainMultiplication.ipynb#ch0000005?line=5'>6</a>\u001b[0m \u001b[39mprint\u001b[39m(\u001b[39m'\u001b[39m\u001b[39m(\u001b[39m\u001b[39m'\u001b[39m, end\u001b[39m=\u001b[39m\u001b[39m'\u001b[39m\u001b[39m'\u001b[39m)\n\u001b[0;32m      <a href='vscode-notebook-cell:/d%3A/GitHub/Coursework_Sem4/DAA/matrixChainMultiplication.ipynb#ch0000005?line=6'>7</a>\u001b[0m \u001b[39m#print(arrS[i, j])\u001b[39;00m\n\u001b[1;32m----> <a href='vscode-notebook-cell:/d%3A/GitHub/Coursework_Sem4/DAA/matrixChainMultiplication.ipynb#ch0000005?line=7'>8</a>\u001b[0m optimalParens(arrS, i, arrS[i, j])\n\u001b[0;32m      <a href='vscode-notebook-cell:/d%3A/GitHub/Coursework_Sem4/DAA/matrixChainMultiplication.ipynb#ch0000005?line=8'>9</a>\u001b[0m optimalParens(arrS, arrS[i, j] \u001b[39m+\u001b[39m \u001b[39m1\u001b[39m, j)\n\u001b[0;32m     <a href='vscode-notebook-cell:/d%3A/GitHub/Coursework_Sem4/DAA/matrixChainMultiplication.ipynb#ch0000005?line=9'>10</a>\u001b[0m \u001b[39mprint\u001b[39m(\u001b[39m'\u001b[39m\u001b[39m)\u001b[39m\u001b[39m'\u001b[39m, end\u001b[39m=\u001b[39m\u001b[39m'\u001b[39m\u001b[39m'\u001b[39m)\n",
      "\u001b[1;32md:\\GitHub\\Coursework_Sem4\\DAA\\matrixChainMultiplication.ipynb Cell 6'\u001b[0m in \u001b[0;36moptimalParens\u001b[1;34m(arrS, i, j)\u001b[0m\n\u001b[0;32m      <a href='vscode-notebook-cell:/d%3A/GitHub/Coursework_Sem4/DAA/matrixChainMultiplication.ipynb#ch0000005?line=5'>6</a>\u001b[0m \u001b[39mprint\u001b[39m(\u001b[39m'\u001b[39m\u001b[39m(\u001b[39m\u001b[39m'\u001b[39m, end\u001b[39m=\u001b[39m\u001b[39m'\u001b[39m\u001b[39m'\u001b[39m)\n\u001b[0;32m      <a href='vscode-notebook-cell:/d%3A/GitHub/Coursework_Sem4/DAA/matrixChainMultiplication.ipynb#ch0000005?line=6'>7</a>\u001b[0m \u001b[39m#print(arrS[i, j])\u001b[39;00m\n\u001b[1;32m----> <a href='vscode-notebook-cell:/d%3A/GitHub/Coursework_Sem4/DAA/matrixChainMultiplication.ipynb#ch0000005?line=7'>8</a>\u001b[0m optimalParens(arrS, i, arrS[i, j])\n\u001b[0;32m      <a href='vscode-notebook-cell:/d%3A/GitHub/Coursework_Sem4/DAA/matrixChainMultiplication.ipynb#ch0000005?line=8'>9</a>\u001b[0m optimalParens(arrS, arrS[i, j] \u001b[39m+\u001b[39m \u001b[39m1\u001b[39m, j)\n\u001b[0;32m     <a href='vscode-notebook-cell:/d%3A/GitHub/Coursework_Sem4/DAA/matrixChainMultiplication.ipynb#ch0000005?line=9'>10</a>\u001b[0m \u001b[39mprint\u001b[39m(\u001b[39m'\u001b[39m\u001b[39m)\u001b[39m\u001b[39m'\u001b[39m, end\u001b[39m=\u001b[39m\u001b[39m'\u001b[39m\u001b[39m'\u001b[39m)\n",
      "    \u001b[1;31m[... skipping similar frames: optimalParens at line 8 (2966 times)]\u001b[0m\n",
      "\u001b[1;32md:\\GitHub\\Coursework_Sem4\\DAA\\matrixChainMultiplication.ipynb Cell 6'\u001b[0m in \u001b[0;36moptimalParens\u001b[1;34m(arrS, i, j)\u001b[0m\n\u001b[0;32m      <a href='vscode-notebook-cell:/d%3A/GitHub/Coursework_Sem4/DAA/matrixChainMultiplication.ipynb#ch0000005?line=5'>6</a>\u001b[0m \u001b[39mprint\u001b[39m(\u001b[39m'\u001b[39m\u001b[39m(\u001b[39m\u001b[39m'\u001b[39m, end\u001b[39m=\u001b[39m\u001b[39m'\u001b[39m\u001b[39m'\u001b[39m)\n\u001b[0;32m      <a href='vscode-notebook-cell:/d%3A/GitHub/Coursework_Sem4/DAA/matrixChainMultiplication.ipynb#ch0000005?line=6'>7</a>\u001b[0m \u001b[39m#print(arrS[i, j])\u001b[39;00m\n\u001b[1;32m----> <a href='vscode-notebook-cell:/d%3A/GitHub/Coursework_Sem4/DAA/matrixChainMultiplication.ipynb#ch0000005?line=7'>8</a>\u001b[0m optimalParens(arrS, i, arrS[i, j])\n\u001b[0;32m      <a href='vscode-notebook-cell:/d%3A/GitHub/Coursework_Sem4/DAA/matrixChainMultiplication.ipynb#ch0000005?line=8'>9</a>\u001b[0m optimalParens(arrS, arrS[i, j] \u001b[39m+\u001b[39m \u001b[39m1\u001b[39m, j)\n\u001b[0;32m     <a href='vscode-notebook-cell:/d%3A/GitHub/Coursework_Sem4/DAA/matrixChainMultiplication.ipynb#ch0000005?line=9'>10</a>\u001b[0m \u001b[39mprint\u001b[39m(\u001b[39m'\u001b[39m\u001b[39m)\u001b[39m\u001b[39m'\u001b[39m, end\u001b[39m=\u001b[39m\u001b[39m'\u001b[39m\u001b[39m'\u001b[39m)\n",
      "\u001b[1;32md:\\GitHub\\Coursework_Sem4\\DAA\\matrixChainMultiplication.ipynb Cell 6'\u001b[0m in \u001b[0;36moptimalParens\u001b[1;34m(arrS, i, j)\u001b[0m\n\u001b[0;32m      <a href='vscode-notebook-cell:/d%3A/GitHub/Coursework_Sem4/DAA/matrixChainMultiplication.ipynb#ch0000005?line=2'>3</a>\u001b[0m     \u001b[39mprint\u001b[39m(\u001b[39mf\u001b[39m\u001b[39m'\u001b[39m\u001b[39mA\u001b[39m\u001b[39m{\u001b[39;00mi\u001b[39m}\u001b[39;00m\u001b[39m'\u001b[39m, end\u001b[39m=\u001b[39m\u001b[39m'\u001b[39m\u001b[39m'\u001b[39m)\n\u001b[0;32m      <a href='vscode-notebook-cell:/d%3A/GitHub/Coursework_Sem4/DAA/matrixChainMultiplication.ipynb#ch0000005?line=4'>5</a>\u001b[0m \u001b[39melse\u001b[39;00m:\n\u001b[1;32m----> <a href='vscode-notebook-cell:/d%3A/GitHub/Coursework_Sem4/DAA/matrixChainMultiplication.ipynb#ch0000005?line=5'>6</a>\u001b[0m     \u001b[39mprint\u001b[39;49m(\u001b[39m'\u001b[39;49m\u001b[39m(\u001b[39;49m\u001b[39m'\u001b[39;49m, end\u001b[39m=\u001b[39;49m\u001b[39m'\u001b[39;49m\u001b[39m'\u001b[39;49m)\n\u001b[0;32m      <a href='vscode-notebook-cell:/d%3A/GitHub/Coursework_Sem4/DAA/matrixChainMultiplication.ipynb#ch0000005?line=6'>7</a>\u001b[0m     \u001b[39m#print(arrS[i, j])\u001b[39;00m\n\u001b[0;32m      <a href='vscode-notebook-cell:/d%3A/GitHub/Coursework_Sem4/DAA/matrixChainMultiplication.ipynb#ch0000005?line=7'>8</a>\u001b[0m     optimalParens(arrS, i, arrS[i, j])\n",
      "File \u001b[1;32mc:\\Users\\orect\\miniconda3\\envs\\npTest\\lib\\site-packages\\ipykernel\\iostream.py:549\u001b[0m, in \u001b[0;36mOutStream.write\u001b[1;34m(self, string)\u001b[0m\n\u001b[0;32m    <a href='file:///c%3A/Users/orect/miniconda3/envs/npTest/lib/site-packages/ipykernel/iostream.py?line=545'>546</a>\u001b[0m     \u001b[39mraise\u001b[39;00m \u001b[39mValueError\u001b[39;00m(\u001b[39m\"\u001b[39m\u001b[39mI/O operation on closed file\u001b[39m\u001b[39m\"\u001b[39m)\n\u001b[0;32m    <a href='file:///c%3A/Users/orect/miniconda3/envs/npTest/lib/site-packages/ipykernel/iostream.py?line=546'>547</a>\u001b[0m \u001b[39melse\u001b[39;00m:\n\u001b[1;32m--> <a href='file:///c%3A/Users/orect/miniconda3/envs/npTest/lib/site-packages/ipykernel/iostream.py?line=548'>549</a>\u001b[0m     is_child \u001b[39m=\u001b[39m \u001b[39mnot\u001b[39;00m \u001b[39mself\u001b[39;49m\u001b[39m.\u001b[39;49m_is_master_process()\n\u001b[0;32m    <a href='file:///c%3A/Users/orect/miniconda3/envs/npTest/lib/site-packages/ipykernel/iostream.py?line=549'>550</a>\u001b[0m     \u001b[39m# only touch the buffer in the IO thread to avoid races\u001b[39;00m\n\u001b[0;32m    <a href='file:///c%3A/Users/orect/miniconda3/envs/npTest/lib/site-packages/ipykernel/iostream.py?line=550'>551</a>\u001b[0m     \u001b[39mwith\u001b[39;00m \u001b[39mself\u001b[39m\u001b[39m.\u001b[39m_buffer_lock:\n",
      "File \u001b[1;32mc:\\Users\\orect\\miniconda3\\envs\\npTest\\lib\\site-packages\\ipykernel\\iostream.py:437\u001b[0m, in \u001b[0;36mOutStream._is_master_process\u001b[1;34m(self)\u001b[0m\n\u001b[0;32m    <a href='file:///c%3A/Users/orect/miniconda3/envs/npTest/lib/site-packages/ipykernel/iostream.py?line=435'>436</a>\u001b[0m \u001b[39mdef\u001b[39;00m \u001b[39m_is_master_process\u001b[39m(\u001b[39mself\u001b[39m):\n\u001b[1;32m--> <a href='file:///c%3A/Users/orect/miniconda3/envs/npTest/lib/site-packages/ipykernel/iostream.py?line=436'>437</a>\u001b[0m     \u001b[39mreturn\u001b[39;00m os\u001b[39m.\u001b[39;49mgetpid() \u001b[39m==\u001b[39m \u001b[39mself\u001b[39m\u001b[39m.\u001b[39m_master_pid\n",
      "\u001b[1;31mRecursionError\u001b[0m: maximum recursion depth exceeded while calling a Python object"
     ]
    }
   ],
   "source": [
    "def optimalParens(arrS, i, j):\n",
    "    if i == j:\n",
    "        print(f'A{i}', end='')\n",
    "    \n",
    "    else:\n",
    "        print('(', end='')\n",
    "        optimalParens(arrS, i, arrS[i, j])\n",
    "        optimalParens(arrS, arrS[i, j] + 1, j)\n",
    "        print(')', end='')\n",
    "\n",
    "optimalParens(arrS, 0, n-1)"
   ]
  },
  {
   "cell_type": "code",
   "execution_count": null,
   "metadata": {},
   "outputs": [
    {
     "data": {
      "text/plain": [
       "4.0"
      ]
     },
     "execution_count": 23,
     "metadata": {},
     "output_type": "execute_result"
    }
   ],
   "source": [
    "i, j = 0, n-1\n",
    "arrS[i, int(j)]"
   ]
  },
  {
   "cell_type": "code",
   "execution_count": null,
   "metadata": {},
   "outputs": [],
   "source": []
  }
 ],
 "metadata": {
  "interpreter": {
   "hash": "2ccee50c2ade9082d0f66290d7bf48f8de6e3644d9764d5581a2e35285991750"
  },
  "kernelspec": {
   "display_name": "Python 3.10.4 ('npTest')",
   "language": "python",
   "name": "python3"
  },
  "language_info": {
   "codemirror_mode": {
    "name": "ipython",
    "version": 3
   },
   "file_extension": ".py",
   "mimetype": "text/x-python",
   "name": "python",
   "nbconvert_exporter": "python",
   "pygments_lexer": "ipython3",
   "version": "3.10.4"
  },
  "orig_nbformat": 4
 },
 "nbformat": 4,
 "nbformat_minor": 2
}
