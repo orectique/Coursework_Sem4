{
 "cells": [
  {
   "cell_type": "markdown",
   "metadata": {},
   "source": [
    "### Merge Sort\n",
    "Sreehari P Sreedhar, CB.SC.I5DAS20032"
   ]
  },
  {
   "cell_type": "code",
   "execution_count": 2,
   "metadata": {},
   "outputs": [],
   "source": [
    "# Getting array. The function runs till there are at least 10 elements in the array.\n",
    "\n",
    "def getVals(arr):\n",
    "    \n",
    "    print('Current length of array:', len(arr))\n",
    "    print('Current array:', arr)\n",
    "\n",
    "    arr += (input(\"Enter numbers separated by spaces: \").split())\n",
    "    arr = [int(i) for i in arr if i.isdigit()]\n",
    "\n",
    "    print('Current length of array:', len(arr))\n",
    "    print('Current array:', arr)\n",
    "\n",
    "    if len(arr) < 10:\n",
    "        arr = getVals(arr)\n",
    "\n",
    "    return arr"
   ]
  },
  {
   "cell_type": "code",
   "execution_count": 7,
   "metadata": {},
   "outputs": [],
   "source": [
    "# function to merge sort the array\n",
    "\n",
    "def mergeSort(arr):\n",
    "    if len(arr) > 1:\n",
    "        flag = len(arr)//2\n",
    "        arr1 = arr[:flag]\n",
    "        arr2 = arr[flag:]\n",
    "\n",
    "        mergeSort(arr1)\n",
    "        mergeSort(arr2)\n",
    "\n",
    "        i = j = k = 0\n",
    "\n",
    "        while i < len(arr1) and j < len(arr2):\n",
    "            if arr1[i] < arr2[j]:\n",
    "                arr[k] = arr1[i]\n",
    "                i += 1\n",
    "            else:\n",
    "                arr[k] = arr2[j]\n",
    "                j += 1\n",
    "            k += 1 \n",
    "\n",
    "        while i < len(arr1):\n",
    "            arr[k] = arr1[i]\n",
    "            i += 1\n",
    "            k += 1\n",
    "        \n",
    "        while j < len(arr2):\n",
    "            arr[k] = arr2[j]\n",
    "            j += 1\n",
    "            k += 1\n",
    "        \n",
    "        print(arr)\n",
    "\n",
    "    return arr   "
   ]
  },
  {
   "cell_type": "code",
   "execution_count": 8,
   "metadata": {},
   "outputs": [
    {
     "name": "stdout",
     "output_type": "stream",
     "text": [
      "Current length of array: 0\n",
      "Current array: []\n",
      "Current length of array: 13\n",
      "Current array: [1, 6, 43, 867, 32, 76, 25, 79, 90, 93, 68, 92, 36]\n",
      "[6, 43]\n",
      "[1, 6, 43]\n",
      "[32, 76]\n",
      "[32, 76, 867]\n",
      "[1, 6, 32, 43, 76, 867]\n",
      "[79, 90]\n",
      "[25, 79, 90]\n",
      "[68, 93]\n",
      "[36, 92]\n",
      "[36, 68, 92, 93]\n",
      "[25, 36, 68, 79, 90, 92, 93]\n",
      "[1, 6, 25, 32, 36, 43, 68, 76, 79, 90, 92, 93, 867]\n"
     ]
    },
    {
     "data": {
      "text/plain": [
       "[1, 6, 25, 32, 36, 43, 68, 76, 79, 90, 92, 93, 867]"
      ]
     },
     "execution_count": 8,
     "metadata": {},
     "output_type": "execute_result"
    }
   ],
   "source": [
    "mergeSort(getVals([]))"
   ]
  },
  {
   "cell_type": "code",
   "execution_count": null,
   "metadata": {},
   "outputs": [],
   "source": []
  }
 ],
 "metadata": {
  "interpreter": {
   "hash": "2c4eb22513297cec5654cfcbb03155dbdfdfce47361ebee1c20ce7fc1403920c"
  },
  "kernelspec": {
   "display_name": "Python 3.9.7 ('env')",
   "language": "python",
   "name": "python3"
  },
  "language_info": {
   "codemirror_mode": {
    "name": "ipython",
    "version": 3
   },
   "file_extension": ".py",
   "mimetype": "text/x-python",
   "name": "python",
   "nbconvert_exporter": "python",
   "pygments_lexer": "ipython3",
   "version": "3.9.7"
  },
  "orig_nbformat": 4
 },
 "nbformat": 4,
 "nbformat_minor": 2
}
