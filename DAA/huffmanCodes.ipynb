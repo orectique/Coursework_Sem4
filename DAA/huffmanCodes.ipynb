{
 "cells": [
  {
   "cell_type": "code",
   "execution_count": 1,
   "metadata": {},
   "outputs": [],
   "source": [
    "class node:\n",
    "\tdef __init__(self, freq, symbol, left=None, right=None):\n",
    "\t\t\n",
    "\t\tself.freq = freq\n",
    "\n",
    "\t\tself.symbol = symbol\n",
    "\n",
    "\t\tself.left = left\n",
    "\t\t\n",
    "\t\tself.right = right\n",
    "\n",
    "\t\tself.huff = ''"
   ]
  },
  {
   "cell_type": "code",
   "execution_count": 2,
   "metadata": {},
   "outputs": [],
   "source": [
    "def printNodes(node, val=''):\n",
    "\t\n",
    "\tnewVal = val + str(node.huff)\n",
    "\n",
    "\tif(node.left):\n",
    "\t\tprintNodes(node.left, newVal)\n",
    "\tif(node.right):\n",
    "\t\tprintNodes(node.right, newVal)\n",
    "\n",
    "\tif(not node.left and not node.right):\n",
    "\t\tprint(f\"{node.symbol} -> {newVal}\")"
   ]
  },
  {
   "cell_type": "code",
   "execution_count": 6,
   "metadata": {},
   "outputs": [],
   "source": [
    "chars = ['a', 'b', 'c', 'd', 'e', 'f']\n",
    "\n",
    "freq = [ 5, 9, 12, 13, 16, 45]\n",
    "\n",
    "nodes = []"
   ]
  },
  {
   "cell_type": "code",
   "execution_count": 7,
   "metadata": {},
   "outputs": [],
   "source": [
    "for x in range(len(chars)):\n",
    "\tnodes.append(node(freq[x], chars[x]))"
   ]
  },
  {
   "cell_type": "code",
   "execution_count": 5,
   "metadata": {},
   "outputs": [
    {
     "name": "stdout",
     "output_type": "stream",
     "text": [
      "f -> 0\n",
      "c -> 100\n",
      "d -> 101\n",
      "a -> 1100\n",
      "b -> 1101\n",
      "e -> 111\n"
     ]
    }
   ],
   "source": [
    "while len(nodes) > 1:\n",
    "\n",
    "\tnodes = sorted(nodes, key=lambda x: x.freq)\n",
    "\n",
    "\tleft = nodes[0]\n",
    "\tright = nodes[1]\n",
    "\n",
    "\tleft.huff = 0\n",
    "\tright.huff = 1\n",
    "\n",
    "\tnewNode = node(left.freq+right.freq, left.symbol+right.symbol, left, right)\n",
    "\n",
    "\tnodes.remove(left)\n",
    "\tnodes.remove(right)\n",
    "\tnodes.append(newNode)\n",
    "\n",
    "printNodes(nodes[0])"
   ]
  },
  {
   "cell_type": "code",
   "execution_count": null,
   "metadata": {},
   "outputs": [],
   "source": []
  }
 ],
 "metadata": {
  "interpreter": {
   "hash": "7aa7eecd0f849ab40efe6ac0a8ce5383eaa0569ecfba7009708b3eaae53995d1"
  },
  "kernelspec": {
   "display_name": "Python 3.10.4 ('env')",
   "language": "python",
   "name": "python3"
  },
  "language_info": {
   "codemirror_mode": {
    "name": "ipython",
    "version": 3
   },
   "file_extension": ".py",
   "mimetype": "text/x-python",
   "name": "python",
   "nbconvert_exporter": "python",
   "pygments_lexer": "ipython3",
   "version": "3.10.4"
  },
  "orig_nbformat": 4
 },
 "nbformat": 4,
 "nbformat_minor": 2
}
